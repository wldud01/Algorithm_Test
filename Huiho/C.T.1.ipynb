{
 "cells": [
  {
   "cell_type": "code",
   "execution_count": 18,
   "id": "e79d0c70",
   "metadata": {},
   "outputs": [],
   "source": [
    "def solution(s):\n",
    "    min_max = map(int, s.split())\n",
    "    min_max_li = list(min_max)\n",
    "    min_num = min(min_max_li)\n",
    "    max_num = max(min_max_li)\n",
    "    answer = f\"{min_num} {max_num}\"\n",
    "    return answer\n"
   ]
  },
  {
   "cell_type": "code",
   "execution_count": 19,
   "id": "dfbba69b",
   "metadata": {},
   "outputs": [
    {
     "data": {
      "text/plain": [
       "'1 4'"
      ]
     },
     "execution_count": 19,
     "metadata": {},
     "output_type": "execute_result"
    }
   ],
   "source": [
    "solution('1 2 3 4')"
   ]
  }
 ],
 "metadata": {
  "kernelspec": {
   "display_name": "Python 3 (ipykernel)",
   "language": "python",
   "name": "python3"
  },
  "language_info": {
   "codemirror_mode": {
    "name": "ipython",
    "version": 3
   },
   "file_extension": ".py",
   "mimetype": "text/x-python",
   "name": "python",
   "nbconvert_exporter": "python",
   "pygments_lexer": "ipython3",
   "version": "3.9.7"
  }
 },
 "nbformat": 4,
 "nbformat_minor": 5
}
