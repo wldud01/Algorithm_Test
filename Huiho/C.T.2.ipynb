{
 "cells": [
  {
   "cell_type": "code",
   "execution_count": 17,
   "id": "dd549f23",
   "metadata": {},
   "outputs": [],
   "source": [
    "def solution(s):\n",
    "    answer = ' '.join([i.capitalize() for i in s.split()])\n",
    "    return answer"
   ]
  },
  {
   "cell_type": "code",
   "execution_count": 18,
   "id": "77cceddd",
   "metadata": {},
   "outputs": [
    {
     "data": {
      "text/plain": [
       "'3people Unfollowed Me'"
      ]
     },
     "execution_count": 18,
     "metadata": {},
     "output_type": "execute_result"
    }
   ],
   "source": [
    "solution(\"3people unFollowed me\")"
   ]
  },
  {
   "cell_type": "code",
   "execution_count": 4,
   "id": "7777fe90",
   "metadata": {},
   "outputs": [],
   "source": [
    "word = \"3people unFollowed me\""
   ]
  },
  {
   "cell_type": "code",
   "execution_count": 19,
   "id": "2abc6d31",
   "metadata": {},
   "outputs": [
    {
     "data": {
      "text/plain": [
       "'3people Unfollowed Me'"
      ]
     },
     "execution_count": 19,
     "metadata": {},
     "output_type": "execute_result"
    }
   ],
   "source": [
    "def solution(s):\n",
    "    answer =[]\n",
    "    for i in range(len(s.split())):\n",
    "        answer.append(s.split()[i][0].upper() + s.split()[i].lower()[1:]) \n",
    "    return \" \".join(answer)\n",
    "\n",
    "solution(word)"
   ]
  },
  {
   "cell_type": "code",
   "execution_count": null,
   "id": "09d9d07b",
   "metadata": {},
   "outputs": [],
   "source": []
  }
 ],
 "metadata": {
  "kernelspec": {
   "display_name": "Python 3 (ipykernel)",
   "language": "python",
   "name": "python3"
  },
  "language_info": {
   "codemirror_mode": {
    "name": "ipython",
    "version": 3
   },
   "file_extension": ".py",
   "mimetype": "text/x-python",
   "name": "python",
   "nbconvert_exporter": "python",
   "pygments_lexer": "ipython3",
   "version": "3.9.7"
  }
 },
 "nbformat": 4,
 "nbformat_minor": 5
}
