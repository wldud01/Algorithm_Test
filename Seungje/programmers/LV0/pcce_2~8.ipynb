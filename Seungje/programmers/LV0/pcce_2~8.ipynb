{
 "cells": [
  {
   "cell_type": "markdown",
   "source": [
    "## LV0 PCCE2 피타고라스\n",
    "\n",
    "직각삼각형의 한 변의 길이를 나타내는 정수 a와 빗변의 길이를 나타내는 정수 c가 주어질 때, 다른 한 변의 길이의 제곱, b_square 을 출력하도록 한 줄을 수정해 코드를 완성해 주세요."
   ],
   "metadata": {
    "collapsed": false
   },
   "id": "7d145eaca00d0388"
  },
  {
   "cell_type": "code",
   "execution_count": 3,
   "outputs": [
    {
     "name": "stdout",
     "output_type": "stream",
     "text": [
      "16\n"
     ]
    }
   ],
   "source": [
    "a = int(input())\n",
    "c = int(input())\n",
    "\n",
    "b_square = c**2 - a**2\n",
    "print(b_square)"
   ],
   "metadata": {
    "collapsed": false,
    "ExecuteTime": {
     "end_time": "2024-01-27T18:45:55.151431700Z",
     "start_time": "2024-01-27T18:45:53.492101Z"
    }
   },
   "id": "645d89e162a69212"
  },
  {
   "cell_type": "markdown",
   "source": [
    "## LV0 PCCE3 나이계산\n",
    "\n",
    "나이를 세는 방법은 여러 가지가 있습니다. 그중 한국식 나이는 태어난 순간 1살이 되며 해가 바뀔 때마다 1살씩 더 먹게 됩니다. 연 나이는 태어난 순간 0살이며 해가 바뀔 때마다 1살씩 더 먹게 됩니다. 각각 나이의 계산법은 다음과 같습니다.\n",
    "\n",
    "한국식 나이 : 현재 연도 - 출생 연도 + 1\n",
    "연 나이 : 현재 연도 - 출생 연도\n",
    "\n",
    "출생 연도를 나타내는 정수 year와 구하려는 나이의 종류를 나타내는 문자열 age_type이 주어질 때 2030년에 몇 살인지 출력하도록 빈칸을 채워 코드를 완성해 주세요. age_type이 \"Korea\"라면 한국식 나이를, \"Year\"라면 연 나이를 출력합니다."
   ],
   "metadata": {
    "collapsed": false
   },
   "id": "c0889302ae6b035a"
  },
  {
   "cell_type": "code",
   "execution_count": null,
   "outputs": [],
   "source": [
    "year = int(input())\n",
    "age_type = input()\n",
    "\n",
    "if age_type == 'korea':\n",
    "    anser = 2030 - year + 1\n",
    "elif age_type == 'Year':\n",
    "    anser = 2030 - year\n",
    "    \n",
    "print(anser)"
   ],
   "metadata": {
    "collapsed": false
   },
   "id": "2384b04b91cd7a91"
  },
  {
   "cell_type": "markdown",
   "source": [
    "## LV0 PCCE4 \n",
    "\n",
    "진우는 돈을 모으기 위해 저축을 하려고 합니다. 목표로 하는 금액은 100만 원이며, 첫 달에 일정 금액을 넣은 뒤 70만 원까지는 매월 조금씩 저축하다가 70만 원 이후부터는 월 저축량을 늘려 빠르게 목표 금액을 달성하고자 합니다.\n",
    "\n",
    "첫 달에 저축하는 금액을 나타내는 정수 start, 두 번째 달 부터 70만 원 이상 모일 때까지 매월 저축하는 금액을 나타내는 정수 before, 100만 원 이상 모일 때 까지 매월 저축하는 금액을 나타내는 정수 after가 주어질 때, 100만 원 이상을 모을 때까지 걸리는 개월 수를 출력하도록 빈칸을 채워 코드를 완성해 주세요."
   ],
   "metadata": {
    "collapsed": false
   },
   "id": "8a94756100e71db2"
  },
  {
   "cell_type": "code",
   "execution_count": null,
   "outputs": [],
   "source": [
    "start = int(input())\n",
    "before = int(input())\n",
    "after = int(input())\n",
    "\n",
    "money = start\n",
    "month = 1\n",
    "while money < 70:\n",
    "        money += before\n",
    "    month += 1"
   ],
   "metadata": {
    "collapsed": false
   },
   "id": "7bd367954e9b4007"
  },
  {
   "cell_type": "markdown",
   "source": [
    "## LV0 PCCE5 산책\n",
    "\n",
    "여름이는 강아지를 산책시키려고 합니다. 여름이는 2차원 좌표평면에서 동/서/남/북 방향으로 1m 단위로 이동하면서 강아지를 산책시킵니다. 산책루트가 담긴 문자열 route가 주어질 때, 도착점의 위치를 return하도록 빈칸을 채워 solution함수를 완성해 주세요.\n",
    "\n",
    "route는 \"N\", \"S\", \"E\", \"W\"로 이루어져 있습니다.\n",
    "\"N\"은 북쪽으로 1만큼 움직입니다.\n",
    "\"S\"는 남쪽으로 1만큼 움직입니다.\n",
    "북쪽으로 -1만큼 움직인 것과 같습니다.\n",
    "\"E\"는 동쪽으로 1만큼 움직입니다.\n",
    "\"W\"는 서쪽으로 1만큼 움직입니다.\n",
    "동쪽으로 -1만큼 움직인 것과 같습니다.\n",
    "출발점으로부터 [동쪽으로 떨어진 거리, 북쪽으로 떨어진 거리]형태로 강아지의 최종 위치를 구해서 return해야 합니다.\n",
    "출발점을 기준으로 서쪽, 남쪽에 있는 경우는 동쪽, 북쪽으로 음수만큼 떨어진 것으로 표현합니다.\n",
    "출발점으로부터 동쪽으로 2, 북쪽으로 3만큼 떨어졌다면 [2, 3]을 return 합니다.\n",
    "출발점으로부터 서쪽으로 1, 남쪽으로 4만큼 떨어졌다면 [-1, -4]를 return 합니다."
   ],
   "metadata": {
    "collapsed": false
   },
   "id": "7e6db4d6b7d6625b"
  },
  {
   "cell_type": "code",
   "execution_count": null,
   "outputs": [],
   "source": [
    "def solution(route):\n",
    "    east = 0\n",
    "    north = 0\n",
    "    for i in route:\n",
    "        if i == \"N\":\n",
    "            north += 1\n",
    "        elif i == \"S\" :            \n",
    "            north -= 1\n",
    "        elif i == \"E\" :  \n",
    "            east += 1\n",
    "        elif i == \"W\":\n",
    "            east -= 1\n",
    "    return [east, north]"
   ],
   "metadata": {
    "collapsed": false
   },
   "id": "d85bb2044677bb27"
  },
  {
   "cell_type": "markdown",
   "source": [
    "## LV0 PCCE6 가채점\n",
    "\n",
    "A반 학생들은 시험이 끝난 뒤 성적이 나오기 전 자기 시험지를 가채점해 보았습니다. 이후에 선생님이 실제 성적을 불러 줄 때 가채점한 점수와 실제 성적이 다른 학생들이 있어 선생님께 문의를 하려고 합니다.\n",
    "\n",
    "성적을 문의하려는 학생들의 번호가 담긴 정수 리스트 numbers와 가채점한 점수가 성적을 문의하려는 학생 순서대로 담긴 정수 리스트 our_score, 실제 성적이 번호 순서대로 담긴 정수 리스트 score_list가 주어집니다. 주어진 solution 함수는 가채점한 점수가 실제 성적과 동일하다면 \"Same\"을, 다르다면 \"Different\"를 순서대로 리스트에 담아 return하는 함수입니다. solution 함수가 올바르게 작동하도록 한 줄을 수정해 주세요."
   ],
   "metadata": {
    "collapsed": false
   },
   "id": "e39b36200bbc5a8f"
  },
  {
   "cell_type": "code",
   "execution_count": null,
   "outputs": [],
   "source": [
    "def solution(numbers, our_score, score_list):\n",
    "    answer = []\n",
    "    for i in range(len(numbers)):\n",
    "        if our_score[i] == score_list[numbers[i]-1]:\n",
    "            answer.append(\"Same\")\n",
    "        else:\n",
    "            answer.append(\"Different\")\n",
    "    \n",
    "    return answer"
   ],
   "metadata": {
    "collapsed": false
   },
   "id": "7d1a6a6eaf177154"
  },
  {
   "cell_type": "markdown",
   "source": [
    "## LV0 PCCE7 가습기\n",
    "\n",
    "상우가 사용하는 가습기에는 \"auto\", \"target\", \"minimum\"의 세 가지 모드가 있습니다. 가습기의 가습량은 0~5단계로 구분되며 각 모드 별 동작 방식은 다음과 같습니다.\n",
    "\n",
    "\"auto\" 모드\n",
    "\n",
    "습도가 0 이상 10 미만인 경우 : 5단계\n",
    "습도가 10 이상 20 미만인 경우 : 4단계\n",
    "습도가 20 이상 30 미만인 경우 : 3단계\n",
    "습도가 30 이상 40 미만인 경우 : 2단계\n",
    "습도가 40 이상 50 미만인 경우 : 1단계\n",
    "습도가 50 이상인 경우 : 0단계\n",
    "\"target\" 모드\n",
    "\n",
    "습도가 설정값 미만일 경우 : 3단계\n",
    "습도가 설정값 이상일 경우 : 1단계\n",
    "\"minimum\"모드\n",
    "\n",
    "습도가 설정값 미만일 경우 : 1단계\n",
    "습도가 설정값 이상일 경우 : 0단계\n",
    "상우가 설정한 가습기의 모드를 나타낸 문자열 mode_type, 현재 공기 중 습도를 나타낸 정수 humidity, 설정값을 나타낸 정수 val_set이 주어질 때 현재 가습기가 몇 단계로 작동 중인지 return하도록 빈칸을 채워 solution 함수를 완성해 주세요."
   ],
   "metadata": {
    "collapsed": false
   },
   "id": "5fe226fc8cafbc58"
  },
  {
   "cell_type": "code",
   "execution_count": null,
   "outputs": [],
   "source": [
    "def func1(humidity, val_set):\n",
    "    if humidity < val_set:\n",
    "        return 3\n",
    "    return 1\n",
    "\n",
    "def func2(humidity):\n",
    "    if humidity >= 50:\n",
    "        return 0\n",
    "    elif humidity >= 40:\n",
    "        return 1\n",
    "    elif humidity >= 30:\n",
    "        return 2\n",
    "    elif humidity >= 20:\n",
    "        return 3\n",
    "    elif humidity >= 10:\n",
    "        return 4\n",
    "    elif humidity >= 0 or humidity < 10:\n",
    "        return 5\n",
    "\n",
    "\n",
    "def func3(humidity, val_set):\n",
    "    if humidity < val_set:\n",
    "        return 1\n",
    "    return 0\n",
    "\n",
    "\n",
    "def solution(mode_type, humidity, val_set):\n",
    "    answer = 0\n",
    "    if mode_type == \"auto\":\n",
    "        answer = func2(humidity)\n",
    "\n",
    "    elif mode_type == \"target\":\n",
    "        answer = func1(humidity, val_set)\n",
    "\n",
    "    elif mode_type == \"minimum\":\n",
    "        answer = func3(humidity, val_set)\n",
    "\n",
    "    return answer"
   ],
   "metadata": {
    "collapsed": false
   },
   "id": "b2e52430d624b474"
  },
  {
   "cell_type": "markdown",
   "source": [
    "## LV0 PCCE8 피타고라스\n",
    "\n",
    "선빈이는 게임을 즐기던 중 가지고 있는 물건이 너무 많아 창고 정리를 하기로 했습니다. 선빈이가 보유한 게임 속 창고는 여러 칸으로 나누어져 있고 각 칸에는 물건들이 담겨있습니다. 창고를 정리할 방법을 고민하던 선빈이는 같은 물건이 여러 칸에 나누어 들어있는 것을 발견하고 우선 같은 물건끼리 최대한 겹쳐쌓는 방식으로 창고를 정리하기로 했습니다. 선빈이의 창고에 들어있는 물건의 이름과 개수는 리스트 형태로 주어지며, 한 칸에 겹쳐질 수 있는 물건의 개수에는 제한이 없다고 가정합니다.\n",
    "\n",
    "예를 들어 창고의 각 칸에 담겨있는 물건의 이름이storage = [\"pencil\", \"pencil\", \"pencil\", \"book\"], 각 물건의 개수가 num = [2, 4, 3, 1]이라면 연필과 책을 한 칸에 각각 겹쳐 쌓아 간단하게 clean_storage = [\"pencil\", \"book\"], clean_num = [9, 1]로 만들 수 있습니다.\n",
    "\n",
    "주어진 solution 함수는 정리되기 전 창고의 물건 이름이 담긴 문자열 리스트 storage와 각 물건의 개수가 담긴 정수 리스트 num이 주어질 때, 정리된 창고에서 개수가 가장 많은 물건의 이름을 return 하는 함수입니다. solution 함수가 올바르게 작동하도록 한 줄을 수정해 주세요."
   ],
   "metadata": {
    "collapsed": false
   },
   "id": "a08beb614d4fa458"
  },
  {
   "cell_type": "code",
   "execution_count": null,
   "outputs": [],
   "source": [
    "def solution(storage, num):\n",
    "    clean_storage = []\n",
    "    clean_num = []\n",
    "    for i in range(len(storage)):\n",
    "        if storage[i] in clean_storage:\n",
    "            pos = clean_storage.index(storage[i])\n",
    "            clean_num[pos] += num[i]\n",
    "        else:\n",
    "            clean_storage.append(storage[i])\n",
    "            clean_num.append(num[i])\n",
    "            \n",
    "    max_num = max(clean_num)\n",
    "    answer = clean_storage[clean_num.index(max_num)]\n",
    "    return answer"
   ],
   "metadata": {
    "collapsed": false
   },
   "id": "bede9987a2e82974"
  }
 ],
 "metadata": {
  "kernelspec": {
   "display_name": "Python 3",
   "language": "python",
   "name": "python3"
  },
  "language_info": {
   "codemirror_mode": {
    "name": "ipython",
    "version": 2
   },
   "file_extension": ".py",
   "mimetype": "text/x-python",
   "name": "python",
   "nbconvert_exporter": "python",
   "pygments_lexer": "ipython2",
   "version": "2.7.6"
  }
 },
 "nbformat": 4,
 "nbformat_minor": 5
}
