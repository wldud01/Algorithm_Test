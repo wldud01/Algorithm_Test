{
 "cells": [
  {
   "cell_type": "markdown",
   "source": [
    "문제 설명\n",
    "주어진 초기 코드는 변수에 데이터를 저장하고 출력하는 코드입니다. 아래와 같이 출력되도록 빈칸을 채워 코드를 완성해 주세요."
   ],
   "metadata": {
    "collapsed": false
   },
   "id": "c97dd95da30fd09c"
  },
  {
   "cell_type": "markdown",
   "source": [
    "출력 예시\n",
    "Spring is beginning\n",
    "13\n",
    "310"
   ],
   "metadata": {
    "collapsed": false
   },
   "id": "260e4eff06666b09"
  },
  {
   "cell_type": "markdown",
   "source": [
    "## 문제\n",
    "\n",
    "string_msg = \n",
    "\n",
    "int_val = \n",
    "\n",
    "string_val = \n",
    "\n",
    "\n",
    "print(string_msg)\n",
    "print(int_val + 10)\n",
    "print(string_val + \"10\")"
   ],
   "metadata": {
    "collapsed": false
   },
   "id": "d32dffc69b5b4b95"
  },
  {
   "cell_type": "markdown",
   "source": [
    "## 정답\n",
    "\n",
    "string_msg = 'Spring is beginning'\n",
    "int_val = int(3)\n",
    "string_val = str(3)\n",
    "\n",
    "\n",
    "print(string_msg)\n",
    "print(int_val + 10)\n",
    "print(string_val + \"10\")"
   ],
   "metadata": {
    "collapsed": false
   },
   "id": "b4cde7f4dcfdceaf"
  },
  {
   "cell_type": "markdown",
   "source": [],
   "metadata": {
    "collapsed": false
   },
   "id": "f7dbf74c27551225"
  }
 ],
 "metadata": {
  "kernelspec": {
   "display_name": "Python 3",
   "language": "python",
   "name": "python3"
  },
  "language_info": {
   "codemirror_mode": {
    "name": "ipython",
    "version": 2
   },
   "file_extension": ".py",
   "mimetype": "text/x-python",
   "name": "python",
   "nbconvert_exporter": "python",
   "pygments_lexer": "ipython2",
   "version": "2.7.6"
  }
 },
 "nbformat": 4,
 "nbformat_minor": 5
}
